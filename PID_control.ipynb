{
  "nbformat": 4,
  "nbformat_minor": 0,
  "metadata": {
    "colab": {
      "name": "PID control.ipynb",
      "provenance": [],
      "collapsed_sections": []
    },
    "kernelspec": {
      "name": "python3",
      "display_name": "Python 3"
    }
  },
  "cells": [
    {
      "cell_type": "code",
      "metadata": {
        "id": "bEDMABypMpyM"
      },
      "source": [
        "def self():\r\n",
        "  self.integrator = 0\r\n",
        "  self.preverr = 0\r\n",
        "  self.differentiator = 0\r\n",
        "  self.prevcx = 0"
      ],
      "execution_count": 3,
      "outputs": []
    },
    {
      "cell_type": "code",
      "metadata": {
        "id": "-8GukeuSUP5K"
      },
      "source": [
        "\r\n",
        "def correct_error(self.prevcx,self.preverr ,cx, cy, image):\r\n",
        "  maxlimit = 0     # this is maximum and minimum limits of system (in floats)\r\n",
        "  minlimit = 0\r\n",
        "\r\n",
        "  T = 10.00        # this is sample time basically to change from continuous to discrete time\r\n",
        "  tau = 100.00     # time constant\r\n",
        "\r\n",
        "  h, w, d = image.shape\r\n",
        "  # NOTE: If it doesn't seems to work, try changing to cy to cx\r\n",
        "  err = cx - w/2\r\n",
        "  # NOTE: If the motion is too erratic, then consider a median range\r\n",
        "  #      where there shall be no lateral movement\r\n",
        "  \r\n",
        "  # TODO: Propel linearly\r\n",
        "  linear_thrust = 1600\r\n",
        "  Kp = 0.4\r\n",
        "  rot_thrustP = err*Kp\r\n",
        "\r\n",
        "  # Integral\r\n",
        "  Ki = 0.3\r\n",
        "  self.integrator = self.integrator + 0.5*Ki*(err + self.preverr)\r\n",
        "\r\n",
        "  # Anti-wind up via dynamic integrator clamping\r\n",
        "  minInteg =  100.00\r\n",
        "  maxInteg = 500.00\r\n",
        "\r\n",
        "  # finding dynamic limits for integrator\r\n",
        "  if maxlimit < rot_thrustP:\r\n",
        "    maxInteg = maxlimit - rot_thrustP\r\n",
        "  else:\r\n",
        "    maxInteg = float(0)\r\n",
        "\r\n",
        "  if minlimit < rot_thrustP:\r\n",
        "    minInteg = minlimit - rot_thrustP\r\n",
        "  else:\r\n",
        "    minInteg = float(0)\r\n",
        "  \r\n",
        "  #Clamping the limits onto integrator\r\n",
        "  if self.integrator > maxInteg:\r\n",
        "    self.integrator = maxInteg\r\n",
        "  elif self.integrator < minInteg:\r\n",
        "    self.integrator = minInteg\r\n",
        "\r\n",
        "  #differentiator\r\n",
        "  Kd = 0.3          #note Kd has a additional sign -ve since we wanna avoid kick at setpoint change.\r\n",
        "  self.differentiator = (2.0*-Kd*(cx-self.prevcx)+(((2.0)*tau-T)*self.differentiator))/(2.0*tau+T)\r\n",
        "\r\n",
        "  # summing up and output\r\n",
        "  rot_thrust = rot_thrustP + self.differentiator + self.integrator\r\n",
        "\r\n",
        "  # clamping according to the limits\r\n",
        "  # if rot_thrust > maxlimit:\r\n",
        "  #   rot_thrust = maxlimit\r\n",
        "  # elif rot_thrust < minlimit:\r\n",
        "  #   rot_thrust = minlimit\r\n",
        "  \r\n",
        "  # final out put of the PID controller is rot_thrust\r\n",
        "  \r\n",
        "  rot_thrust = max(-100, min(rot_thrust, 100)) #probably clamper!!!\r\n",
        "  if rot_thrust >= 0:\r\n",
        "      print('Left')\r\n",
        "  else:\r\n",
        "      print('Right')\r\n",
        "\r\n",
        "  print('rot_thrust = ', rot_thrust)\r\n",
        "\r\n",
        "  err_y = cy - h/2\r\n",
        "  constant = 90\r\n",
        "  y_slope = 1/30.\r\n",
        "  m.hp_control(err_y*y_slope + constant)\r\n",
        "\r\n",
        "  thrusts = {\r\n",
        "      m.pin_l: linear_thrust + rot_thrust,\r\n",
        "      m.pin_r: linear_thrust - rot_thrust,\r\n",
        "    }\r\n",
        "  m.custom_thrusts(thrusts)\r\n",
        "\r\n",
        "  return err, self.integrator, self.differentiator, cx\r\n"
      ],
      "execution_count": null,
      "outputs": []
    },
    {
      "cell_type": "code",
      "metadata": {
        "id": "ztRp7JhBxiwu"
      },
      "source": [
        ""
      ],
      "execution_count": null,
      "outputs": []
    }
  ]
}